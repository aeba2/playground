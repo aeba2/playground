{
 "cells": [
  {
   "cell_type": "code",
   "execution_count": 7,
   "id": "b063daca-2dbf-4c58-a681-1b3bf9e7a40f",
   "metadata": {},
   "outputs": [
    {
     "name": "stdout",
     "output_type": "stream",
     "text": [
      "\u001b[0m\u001b[1m ────────────────────────────────────────────────────────────────────────\u001b[22m\n",
      "\u001b[0m\u001b[1m                         \u001b[22m        Time                   Allocations      \n",
      "                         ──────────────────────   ───────────────────────\n",
      "    Tot / % measured:         106ms / 95.8%           12.0MiB / 99.4%    \n",
      "\n",
      " Section         ncalls     time   %tot     avg     alloc   %tot      avg\n",
      " ────────────────────────────────────────────────────────────────────────\n",
      " whole out            1    102ms   100%   102ms   11.9MiB  100%   11.9MiB\n",
      "   whole in           1    310μs  0.30%   310μs    878KiB  7.18%   878KiB\n",
      "     x section        1    155μs  0.15%   155μs    579KiB  4.73%   579KiB\n",
      "     i section        1    151μs  0.15%   151μs    298KiB  2.43%   298KiB\n",
      "\u001b[0m\u001b[1m ────────────────────────────────────────────────────────────────────────\u001b[22m"
     ]
    },
    {
     "name": "stderr",
     "output_type": "stream",
     "text": [
      "WARNING: redefinition of constant to. This may fail, cause incorrect answers, or produce other errors.\n"
     ]
    }
   ],
   "source": [
    "using TimerOutputs\n",
    "const to = TimerOutput()\n",
    "\n",
    "f = function()\n",
    "    @timeit to \"whole in\" begin\n",
    "        a = [];\n",
    "    \n",
    "        @timeit to \"i section\" begin\n",
    "            for i in 1:1000\n",
    "                push!(a,randn(5,5))\n",
    "            end\n",
    "        end\n",
    "    \n",
    "        @timeit to \"x section\" begin\n",
    "            for x in 1:1000\n",
    "                push!(a,randn(5,5) .+ x )\n",
    "            end\n",
    "        end\n",
    "    end\n",
    "end\n",
    "\n",
    "@timeit to \"whole out\" f()\n",
    "\n",
    "show(to)"
   ]
  },
  {
   "cell_type": "code",
   "execution_count": 9,
   "id": "55f4660b-bc97-4df3-8c8a-618a7d055a55",
   "metadata": {},
   "outputs": [
    {
     "data": {
      "text/plain": [
       "328.0928134063809"
      ]
     },
     "execution_count": 9,
     "metadata": {},
     "output_type": "execute_result"
    }
   ],
   "source": [
    "TimerOutputs.time(to[\"whole out\"])/TimerOutputs.time(to[\"whole out\"][\"whole in\"])"
   ]
  },
  {
   "cell_type": "code",
   "execution_count": null,
   "id": "cd6915de-d635-4aed-b989-206bf0ff497c",
   "metadata": {},
   "outputs": [],
   "source": []
  }
 ],
 "metadata": {
  "kernelspec": {
   "display_name": "Julia 1.6.1",
   "language": "julia",
   "name": "julia-1.6"
  },
  "language_info": {
   "file_extension": ".jl",
   "mimetype": "application/julia",
   "name": "julia",
   "version": "1.6.1"
  }
 },
 "nbformat": 4,
 "nbformat_minor": 5
}
