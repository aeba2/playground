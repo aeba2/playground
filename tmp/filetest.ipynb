{
 "cells": [
  {
   "cell_type": "code",
   "execution_count": 1,
   "id": "920cd227-01e9-4d16-949c-3e8868674da5",
   "metadata": {},
   "outputs": [],
   "source": [
    "n=10\n",
    "mat = zeros(n,n)\n",
    "data = Dict(\n",
    "    \"n\" => n,\n",
    "    \"mat\" => mat\n",
    ")\n",
    "using JSON\n",
    "output_text = JSON.json(data)\n",
    "out = open(\"jsonTest.json\",\"w\")\n",
    "println(out,output_text)\n",
    "close(out)"
   ]
  },
  {
   "cell_type": "code",
   "execution_count": 2,
   "id": "ced638fb-a8df-4d3c-a341-bf27165c8fff",
   "metadata": {},
   "outputs": [
    {
     "data": {
      "text/plain": [
       "Dict{String, Any} with 2 entries:\n",
       "  \"mat\" => [0.0 0.0 … 0.0 0.0; 0.0 0.0 … 0.0 0.0; … ; 0.0 0.0 … 0.0 0.0; 0.0 0.…\n",
       "  \"n\"   => 10"
      ]
     },
     "execution_count": 2,
     "metadata": {},
     "output_type": "execute_result"
    }
   ],
   "source": [
    "data"
   ]
  },
  {
   "cell_type": "code",
   "execution_count": 3,
   "id": "81a26b08-2fcd-4ae7-a579-6206846c5734",
   "metadata": {},
   "outputs": [
    {
     "data": {
      "text/plain": [
       "Dict{String, Any} with 2 entries:\n",
       "  \"mat\" => Any[Any[0.0, 0.0, 0.0, 0.0, 0.0, 0.0, 0.0, 0.0, 0.0, 0.0], Any[0.0, …\n",
       "  \"n\"   => 10"
      ]
     },
     "execution_count": 3,
     "metadata": {},
     "output_type": "execute_result"
    }
   ],
   "source": [
    "op = JSON.parsefile(\"jsonTest.json\")"
   ]
  },
  {
   "cell_type": "code",
   "execution_count": null,
   "id": "c7113db2-e579-44a7-b82e-e78dfff7bf46",
   "metadata": {},
   "outputs": [],
   "source": []
  }
 ],
 "metadata": {
  "kernelspec": {
   "display_name": "Julia 1.6.1",
   "language": "julia",
   "name": "julia-1.6"
  },
  "language_info": {
   "file_extension": ".jl",
   "mimetype": "application/julia",
   "name": "julia",
   "version": "1.6.1"
  }
 },
 "nbformat": 4,
 "nbformat_minor": 5
}
