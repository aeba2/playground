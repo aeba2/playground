{
 "cells": [
  {
   "cell_type": "code",
   "execution_count": 180,
   "id": "d72f2ebf-4bd3-46a6-83f3-07000beb60e0",
   "metadata": {},
   "outputs": [
    {
     "name": "stdout",
     "output_type": "stream",
     "text": [
      "  6.780 ms (67425 allocations: 1.18 MiB)\n",
      "  543.900 μs (6175 allocations: 1.09 MiB)\n"
     ]
    }
   ],
   "source": [
    "using BenchmarkTools\n",
    "using LoopVectorization\n",
    "function noAvxtIn()\n",
    "n = 100\n",
    "bar = randn(n,n)\n",
    "foo = zeros(n,n)\n",
    "\n",
    "@btime for i = 2:n-1\n",
    "  for j = 2:n-1\n",
    "    foo[i, j] = (1 / 4) * ( bar[i,j-1]+bar[i, j+1]+bar[i-1, j]+bar[i+1, j])\n",
    "  end\n",
    "end\n",
    "    \n",
    "end\n",
    "\n",
    "function withAvxtIn()\n",
    "n = 100\n",
    "bar = randn(n,n)\n",
    "foo = zeros(n,n)\n",
    "@btime for i = 2:n-1\n",
    "    @avxt for j = 2:n-1\n",
    "    foo[i, j] = (1 / 4) * ( bar[i,j-1]+bar[i, j+1]+bar[i-1, j]+bar[i+1, j])\n",
    "    end\n",
    "end\n",
    "end\n",
    "\n",
    "noAvxtIn()\n",
    "withAvxtIn()\n",
    "\n",
    "# The for loop with @avxt seems to consume less time than otherwise.\n"
   ]
  },
  {
   "cell_type": "code",
   "execution_count": 178,
   "id": "414959bc-7831-436a-9488-c34735ecee57",
   "metadata": {},
   "outputs": [
    {
     "name": "stdout",
     "output_type": "stream",
     "text": [
      "No avxt and With avxt one time:\n",
      "  111.200 μs (4 allocations: 156.41 KiB)\n",
      "  205.700 μs (3238 allocations: 1.14 MiB)\n",
      "No avxt and With avxt many times:\n",
      "  17.746 ms (400 allocations: 15.27 MiB)\n",
      "  53.002 ms (323800 allocations: 114.42 MiB)\n"
     ]
    }
   ],
   "source": [
    "using BenchmarkTools\n",
    "using LoopVectorization\n",
    "\n",
    "function noAvxt()\n",
    "n = 100\n",
    "bar = randn(n,n)\n",
    "foo = zeros(n,n)\n",
    "\n",
    "  for i = 2:n-1\n",
    "  for j = 2:n-1\n",
    "     foo[i, j] = (1 / 4) * ( bar[i,j-1]+bar[i, j+1]+bar[i-1, j]+bar[i+1, j])\n",
    "  end\n",
    "end\n",
    "    return foo;\n",
    "end \n",
    "    \n",
    "\n",
    "\n",
    "function withAvxt()\n",
    "    n = 100\n",
    "bar = randn(n,n)\n",
    "foo = zeros(n,n)\n",
    "   \n",
    "    for i = 2:n-1\n",
    "    @avxt for j = 2:n-1\n",
    "        foo[i, j] = (1 / 4) * ( bar[i,j-1]+bar[i, j+1]+bar[i-1, j]+bar[i+1, j])\n",
    "    end\n",
    "end\n",
    "   return foo;\n",
    "end\n",
    "\n",
    "function test_AvxtContribution()\n",
    "    println(\"No avxt and With avxt one time:\");\n",
    "    no = @btime noAvxt()\n",
    "    with = @btime withAvxt()\n",
    "    return no == with ? \"No bugs.\" : \"Something bad is happening\";\n",
    "end\n",
    "\n",
    "function test_AvxtManyTimes()\n",
    "    println(\"No avxt and With avxt many times:\");\n",
    "   no = @btime for i in 1:100 noAvxt() end\n",
    "   with = @btime for i in 1:100 withAvxt() end\n",
    "   \n",
    "end\n",
    "\n",
    "test_AvxtContribution()\n",
    "test_AvxtManyTimes()\n",
    "\n",
    "# No @avxt is better??? Why?\n",
    "\n"
   ]
  }
 ],
 "metadata": {
  "kernelspec": {
   "display_name": "Julia 1.6.1",
   "language": "julia",
   "name": "julia-1.6"
  },
  "language_info": {
   "file_extension": ".jl",
   "mimetype": "application/julia",
   "name": "julia",
   "version": "1.6.1"
  }
 },
 "nbformat": 4,
 "nbformat_minor": 5
}
