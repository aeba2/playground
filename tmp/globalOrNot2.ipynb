{
 "cells": [
  {
   "cell_type": "code",
   "execution_count": 11,
   "id": "7f1391e0-1765-4055-8d94-92427c24bf98",
   "metadata": {},
   "outputs": [],
   "source": [
    "function g(x,y)\n",
    "    for i in 1:length(x)\n",
    "        x[i] *= 3;\n",
    "        y[i] += x[i]\n",
    "    end\n",
    "end\n",
    "\n",
    "function h()\n",
    "    for i in 1:length(x_global)\n",
    "        x_global[i] *= 3;\n",
    "        y_global[i] += x_global[i]\n",
    "    end\n",
    "end\n",
    "\n",
    "function f1()\n",
    "    x = randn(100,100)\n",
    "    y = randn(100,100)    \n",
    "    g(x,y)\n",
    "end\n",
    "\n",
    "function f2(x = randn(100,100),y = randn(100,100))\n",
    "    g(x,y)\n",
    "end\n",
    "\n",
    "x_global = randn(100)\n",
    "y_global = randn(100)\n",
    "\n",
    "function f3()\n",
    "   g(x_global,y_global)\n",
    "end\n",
    "\n",
    "function f4()\n",
    "   h()\n",
    "end\n",
    "\n",
    "using BenchmarkTools;\n"
   ]
  },
  {
   "cell_type": "code",
   "execution_count": 15,
   "id": "3c43f704-9588-4b4c-bf82-e0b252234a67",
   "metadata": {},
   "outputs": [
    {
     "name": "stdout",
     "output_type": "stream",
     "text": [
      "  124.400 μs (4 allocations: 156.41 KiB)\n"
     ]
    }
   ],
   "source": [
    "@btime f1()"
   ]
  },
  {
   "cell_type": "code",
   "execution_count": 14,
   "id": "036769de-b96f-430d-8577-827506c42f7a",
   "metadata": {},
   "outputs": [
    {
     "name": "stdout",
     "output_type": "stream",
     "text": [
      "  125.400 μs (4 allocations: 156.41 KiB)\n"
     ]
    }
   ],
   "source": [
    "@btime f2()"
   ]
  },
  {
   "cell_type": "code",
   "execution_count": 13,
   "id": "efa56373-60c3-4ef5-afae-f006f8f2c370",
   "metadata": {},
   "outputs": [
    {
     "name": "stdout",
     "output_type": "stream",
     "text": [
      "  216.766 ns (0 allocations: 0 bytes)\n"
     ]
    }
   ],
   "source": [
    "@btime f3()"
   ]
  },
  {
   "cell_type": "code",
   "execution_count": 12,
   "id": "79d29460-4b4e-4db2-bd33-452c3ec6534d",
   "metadata": {},
   "outputs": [
    {
     "name": "stdout",
     "output_type": "stream",
     "text": [
      "  39.500 μs (601 allocations: 10.97 KiB)\n"
     ]
    }
   ],
   "source": [
    "@btime f4()"
   ]
  },
  {
   "cell_type": "code",
   "execution_count": null,
   "id": "bbfbae5a-694e-402e-a3b4-ebcda33bdfa9",
   "metadata": {},
   "outputs": [],
   "source": []
  }
 ],
 "metadata": {
  "kernelspec": {
   "display_name": "Julia 1.6.1",
   "language": "julia",
   "name": "julia-1.6"
  },
  "language_info": {
   "file_extension": ".jl",
   "mimetype": "application/julia",
   "name": "julia",
   "version": "1.6.1"
  }
 },
 "nbformat": 4,
 "nbformat_minor": 5
}
