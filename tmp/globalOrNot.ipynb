{
 "cells": [
  {
   "cell_type": "code",
   "execution_count": 19,
   "id": "7f1391e0-1765-4055-8d94-92427c24bf98",
   "metadata": {},
   "outputs": [],
   "source": [
    "function f1()\n",
    "    x = randn(100,100)\n",
    "    y = randn(100,100)\n",
    "    for i in 1:length(x)\n",
    "        x[i] *= 3;\n",
    "        y[i] += x[i]\n",
    "    end\n",
    "end\n",
    "\n",
    "function f2(x = randn(100,100),y = randn(100,100))\n",
    "    for i in 1:length(x)\n",
    "        x[i] *= 3;\n",
    "        y[i] += x[i]\n",
    "    end\n",
    "end\n",
    "\n",
    "using BenchmarkTools;\n"
   ]
  },
  {
   "cell_type": "code",
   "execution_count": 20,
   "id": "3c43f704-9588-4b4c-bf82-e0b252234a67",
   "metadata": {},
   "outputs": [
    {
     "name": "stdout",
     "output_type": "stream",
     "text": [
      "  123.500 μs (4 allocations: 156.41 KiB)\n"
     ]
    }
   ],
   "source": [
    "@btime f1()"
   ]
  },
  {
   "cell_type": "code",
   "execution_count": 21,
   "id": "036769de-b96f-430d-8577-827506c42f7a",
   "metadata": {},
   "outputs": [
    {
     "name": "stdout",
     "output_type": "stream",
     "text": [
      "  177.800 μs (4 allocations: 156.41 KiB)\n"
     ]
    }
   ],
   "source": [
    "@btime f2()"
   ]
  }
 ],
 "metadata": {
  "kernelspec": {
   "display_name": "Julia 1.6.1",
   "language": "julia",
   "name": "julia-1.6"
  },
  "language_info": {
   "file_extension": ".jl",
   "mimetype": "application/julia",
   "name": "julia",
   "version": "1.6.1"
  }
 },
 "nbformat": 4,
 "nbformat_minor": 5
}
